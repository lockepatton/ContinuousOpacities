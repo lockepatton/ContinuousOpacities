{
 "cells": [
  {
   "cell_type": "code",
   "execution_count": 131,
   "metadata": {
    "collapsed": false
   },
   "outputs": [],
   "source": [
    "%matplotlib inline\n",
    "import numpy as np\n",
    "import matplotlib.pyplot as plt\n",
    "import astropy.units as u\n",
    "\n",
    "def SI(l, units):\n",
    "    SI_I = (l * units).decompose()\n",
    "    return SI_I.value\n",
    "\n",
    "#Constants:\n",
    "L = SI(5000, u.AA) #angstroms\n",
    "T_test = 5730.97 #Kelvin\n",
    "P_test = 1.2594 # = log(P)\n",
    "B = 0.1 #ratio of the #He/#H\n",
    "A = 10**4 #ratio of #H/#metal\n",
    "#sigma_t = SI(6.655*10**(-25), u.cm**2)#centimeter squared, used in thompson scattering \n",
    "sigma_t = 6.655*10**(-25) \n",
    "m_h = 1.6726219*10**(-24) #grams, mass of ionized hydrogen, eg. a proton\n",
    "c = SI(29979245800, u.cm/u.s) #speed of light, centimeters per second\n",
    "h = 6.62606896*10**(-27) #planck's constnat, erg * seconds\n",
    "k = 1.38065*10**(-16) #boltzmann constant, ergs/Kelvin\n",
    "Chi = 2.195*10**(-11) #ergs, ionization energy of hydrogen\n",
    "x = 10000/L #substitution used in the absorption coefficients \n",
    "l = ((L*u.m).to(u.micron)).value #micrometers, wavelength of light, just converting L from angstroms to microns to clean up functions.\n",
    "v = c/(L) #frequency associated with L\n",
    "\n",
    "check_ans = np.genfromtxt('opacities.dat', dtype='f8', names = ['temp', 'log_P', 'logH', 'logH-', 'logsigma'])\n",
    "temp_pelog_dat = np.genfromtxt('temp_pelog.dat', dtype='f8', names = ['temp','log_P' ])"
   ]
  },
  {
   "cell_type": "code",
   "execution_count": 132,
   "metadata": {
    "collapsed": false
   },
   "outputs": [
    {
     "name": "stdout",
     "output_type": "stream",
     "text": [
      "Saha_H_ans =  5.04764174695e-05\n",
      "Saha_metals_ans =  12.3468264756\n",
      "X =  5.04738697294e-05\n",
      "Y =  0.925075822194\n"
     ]
    }
   ],
   "source": [
    "#Defining the Saha equation for hydrogen. Returns the ratio of n/n\n",
    "def Saha_H(T, P):\n",
    "    Saha_H_ans =  (5.0/2.0)*np.log10(T) - 13.595*(5040./T) - P - 0.4772\n",
    "    return 10**Saha_H_ans\n",
    "\n",
    "#Defining the Saha equation for metals. Returns the ratio of n/n\n",
    "def Saha_metals(T, P):\n",
    "    Saha_metals_ans = (5.0/2.0)*np.log10(T) - 7.9*(5040./T) - P - 0.0971\n",
    "    return 10**Saha_metals_ans\n",
    "\n",
    "print 'Saha_H_ans = ', Saha_H(T_test, P_test)\n",
    "print 'Saha_metals_ans = ', Saha_metals(T_test, P_test)\n",
    "\n",
    "#Defining theta\n",
    "def Theta(T):\n",
    "    theta = 5040./T\n",
    "    return theta\n",
    "H_ratio = Saha_H(T_test, P_test)\n",
    "m_ratio = Saha_metals(T_test, P_test)\n",
    "\n",
    "#Defining X = fraction of H ionized\n",
    "def X(H_ratio):\n",
    "    X_ans = H_ratio / (1 + H_ratio)\n",
    "    return X_ans\n",
    "print 'X = ', X(H_ratio)\n",
    "\n",
    "#Defining Y = faction of metal ionized \n",
    "def Y(m_ratio):\n",
    "    Y_ans = m_ratio / (1 + m_ratio)\n",
    "    return Y_ans\n",
    "print 'Y = ', Y(m_ratio)"
   ]
  },
  {
   "cell_type": "code",
   "execution_count": 133,
   "metadata": {
    "collapsed": false
   },
   "outputs": [
    {
     "name": "stdout",
     "output_type": "stream",
     "text": [
      "Gaunt_ff_ans =  1.12098134668\n",
      "Gaunt_bf_ans for m=1 =  0.97384\n",
      "[ 3  4  5  6  7  8  9 10]\n",
      "3\n",
      "kappa_atomic =  -1.52028883329\n",
      "absorp_H =  -25.1507410977\n"
     ]
    }
   ],
   "source": [
    "#Defining Gaunt free-free factor:\n",
    "def Gaunt_ff(T,l):\n",
    "    Gaunt_ff_ans = 1.084 + 0.0188/Theta(T) + (0.00161 + 0.02661/Theta(T))*l - (0.0192 - 0.03889/Theta(T) + 0.02833/(Theta(T))**2 - 0.007828/(Theta(T))**3 + 0.0007304/(Theta(T))**4)*(l**2)\n",
    "    return Gaunt_ff_ans\n",
    "print 'Gaunt_ff_ans = ', Gaunt_ff(T_test, l)\n",
    "\n",
    "#Defining coefficients for a, b, c for the Gaunt bound-free factor\n",
    "m = [1, 2, 3, 4, 5, 6, 7, 8, 9, 10]\n",
    "a_m = [0.9916, 1.105, 1.101, 0.9736, 1.03, 1.097, 1.098, 1., 1., 1.]\n",
    "b_m = [0.09068, -0.7922, -0.329, 0., 0., 0., 0., 0., 0., 0.]\n",
    "c_m = [-0.2524, 0.4536, 0.1152, 0., 0., 0., 0., 0, 0., 0.]\n",
    "def Gaunt_bf(l,m):\n",
    "    Gaunt_bf_ans = a_m[m-1] + b_m[m-1]*l + c_m[m-1]*(l**2)\n",
    "    return Gaunt_bf_ans\n",
    "print 'Gaunt_bf_ans for m=1 = ', Gaunt_bf(l, 1)\n",
    "\n",
    "#Defining u, used in the absorption coefficient equation\n",
    "def u(T, m):\n",
    "    u_ans = (Chi/(k*T))/np.power(m, 2)\n",
    "    return u_ans\n",
    "\n",
    "#Finding m_o and m_star\n",
    "test_m = (h * v) / (k*T_test)\n",
    "for i in m:\n",
    "    if test_m <= u(T_test,i):\n",
    "        continue\n",
    "    if test_m >= u(T_test, i):\n",
    "        m_0 = i\n",
    "        break\n",
    "m_star =  m[9]\n",
    "\n",
    "#Defining a new array of m's\n",
    "new_m = np.arange(m_0, m_star + 1, 1)\n",
    "print new_m\n",
    "print m_0\n",
    "#Doing the summation over new m's\n",
    "summ = []\n",
    "for i in new_m:\n",
    "    factor = Gaunt_bf(l, i) * (np.exp(u(T_test, i))/(i**3))\n",
    "    summ.append(factor)\n",
    "summ = np.array(summ)\n",
    "summ = np.sum(summ)\n",
    "\n",
    "#Atomic hydrogen absorption coefficient per neutral hydrogren: alpha_lambda\n",
    "eqn_part_2 = summ + (1/(2*u(T_test, 1)))*(np.exp(u(T_test, m_star)) - 1 + Gaunt_ff(T_test, l))\n",
    "eqn_part_1 = (((2.0989*10**(-14))*np.exp(-1.*u(T_test, 1)))/(((l)**3)*2))*(1-np.exp((-h*v)/k*T_test))\n",
    "absorp_H = eqn_part_2 * eqn_part_1\n",
    "#mass absorption coefficient per gram\n",
    "multiplier = (1-X(H_ratio))/((1+4*B)*m_h)\n",
    "kappa_atomic = absorp_H*multiplier\n",
    "print 'kappa_atomic = ', np.log10(kappa_atomic)\n",
    "print 'absorp_H = ', np.log10(absorp_H)"
   ]
  },
  {
   "cell_type": "code",
   "execution_count": 134,
   "metadata": {
    "collapsed": false
   },
   "outputs": [
    {
     "name": "stdout",
     "output_type": "stream",
     "text": [
      "absorp_bf_ans =  5.71804259147e-25\n",
      "absorp_ff_ans =  2.93746514753e-27\n",
      "kappa_ion =  -0.610075008972\n"
     ]
    }
   ],
   "source": [
    "k_star = 0.00680133 + 0.178708*(5.) + 0.164790*(5.**2) - 0.024842*(5.**3) + (5.**4)*5.95244*10**(-4)\n",
    "\n",
    "#Bound-free absorption coefficient\n",
    "def absorp_bf(P,T):\n",
    "    absorp_bf_ans = (10**(-26)) * 10**P * 0.4158*(Theta(T))**(5./2.) * np.exp(1.726*(Theta(T))) * (1-np.exp((-h*v)/k*T)) * k_star\n",
    "    return absorp_bf_ans\n",
    "#Free-free absorption coefficient\n",
    "def absorp_ff(P,T):\n",
    "    absorp_ff_ans = (10**(-26)) * 10**P * (0.0053666 - 0.011493*(Theta(T)) + 0.027029*(Theta(T))**(2) - (3.2062 - 11.924*(Theta(T)) + 5.939*(Theta(T))**(2))*(l/(10**6)) - (0.40192 - 7.0355*(Theta(T)) + 0.34592*(Theta(T))**(2))*((l**2)/(10**9)))\n",
    "    return absorp_ff_ans\n",
    "\n",
    "print 'absorp_bf_ans = ', absorp_bf(P_test, T_test)\n",
    "print 'absorp_ff_ans = ', absorp_ff(P_test, T_test)\n",
    "\n",
    "\n",
    "absorp_H_neg = absorp_bf(P_test, T_test) + absorp_ff(P_test, T_test)\n",
    "kappa_ion = absorp_H_neg*multiplier\n",
    "print 'kappa_ion = ', np.log10(kappa_ion)"
   ]
  },
  {
   "cell_type": "code",
   "execution_count": 135,
   "metadata": {
    "collapsed": false
   },
   "outputs": [
    {
     "name": "stdout",
     "output_type": "stream",
     "text": [
      "sigma_R(angstroms) =  -3.3584109402\n"
     ]
    }
   ],
   "source": [
    "#Calculating rayleigh scattering cross section, l is in angstroms\n",
    "def cross_section_r(l):\n",
    "    sigma_r_ans = (5.799*10**(-13))/(l**4) + 1.422*10**(-6)/(l**6) + 2.784/(l**8)\n",
    "    return sigma_r_ans\n",
    "\n",
    "sigma_R_ang = cross_section_r(5000)*multiplier\n",
    "print 'sigma_R(angstroms) = ', np.log10(sigma_R_ang)"
   ]
  },
  {
   "cell_type": "code",
   "execution_count": 136,
   "metadata": {
    "collapsed": false
   },
   "outputs": [
    {
     "name": "stdout",
     "output_type": "stream",
     "text": [
      "sigma_T =  -4.39109805174\n",
      "sigma_total =  -3.31989021244\n"
     ]
    }
   ],
   "source": [
    "#Calculating Thompson scattering\n",
    "sigma_T = sigma_t * ((X(H_ratio) + Y(m_ratio)/A)/((1.+4.*B)*m_h))\n",
    "print 'sigma_T = ', np.log10(sigma_T)\n",
    "\n",
    "sigma_total = np.log10(sigma_R_ang + sigma_T)\n",
    "print 'sigma_total = ', sigma_total"
   ]
  },
  {
   "cell_type": "code",
   "execution_count": null,
   "metadata": {
    "collapsed": true
   },
   "outputs": [],
   "source": []
  }
 ],
 "metadata": {
  "anaconda-cloud": {},
  "kernelspec": {
   "display_name": "Python [conda root]",
   "language": "python",
   "name": "conda-root-py"
  },
  "language_info": {
   "codemirror_mode": {
    "name": "ipython",
    "version": 2
   },
   "file_extension": ".py",
   "mimetype": "text/x-python",
   "name": "python",
   "nbconvert_exporter": "python",
   "pygments_lexer": "ipython2",
   "version": "2.7.12"
  }
 },
 "nbformat": 4,
 "nbformat_minor": 1
}
